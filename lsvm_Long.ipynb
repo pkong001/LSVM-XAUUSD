{
 "cells": [
  {
   "attachments": {},
   "cell_type": "markdown",
   "metadata": {},
   "source": [
    "## Load the libraries"
   ]
  },
  {
   "cell_type": "code",
   "execution_count": 41,
   "metadata": {},
   "outputs": [],
   "source": [
    "import pandas as pd\n",
    "import pylab as pl\n",
    "import numpy as np\n",
    "import scipy.optimize as opt\n",
    "from sklearn import preprocessing\n",
    "from sklearn.model_selection import train_test_split\n",
    "%matplotlib inline \n",
    "import matplotlib.pyplot as plt\n",
    "\n",
    "from sklearn.metrics import accuracy_score\n",
    "from sklearn.linear_model import LogisticRegression\n",
    "from sklearn.preprocessing import StandardScaler\n",
    "from sklearn.pipeline import make_pipeline\n",
    "from sklearn.svm import LinearSVC\n",
    "from sklearn import metrics\n",
    "from sklearn.metrics import f1_score\n",
    "from sklearn.metrics import jaccard_score\n",
    "from sklearn.metrics import confusion_matrix, ConfusionMatrixDisplay"
   ]
  },
  {
   "attachments": {},
   "cell_type": "markdown",
   "metadata": {
    "button": false,
    "new_sheet": false,
    "run_control": {
     "read_only": false
    }
   },
   "source": [
    "<h2 id=\"load_dataset\">Load the data</h2>"
   ]
  },
  {
   "cell_type": "code",
   "execution_count": 42,
   "metadata": {
    "button": false,
    "new_sheet": false,
    "run_control": {
     "read_only": false
    }
   },
   "outputs": [],
   "source": [
    "#Here we will load from github or do API or something"
   ]
  },
  {
   "cell_type": "markdown",
   "metadata": {
    "button": false,
    "new_sheet": false,
    "run_control": {
     "read_only": false
    }
   },
   "source": [
    "## Load Data From CSV File\n"
   ]
  },
  {
   "attachments": {},
   "cell_type": "markdown",
   "metadata": {},
   "source": [
    "<span style=\"color:red;\">Welcome to Alpha Vantage! Here is your API key: 9NNSMISKUYVUTO0M. Please record this API key at a safe place for future data access.</span>\n",
    "from tvDatafeed import TvDatafeed, Interval\n",
    "\n",
    "username = 'pkongdan01'\n",
    "password = 'Secu@3545'\n",
    "\n",
    "tv = TvDatafeed(username, password)"
   ]
  },
  {
   "cell_type": "code",
   "execution_count": 43,
   "metadata": {},
   "outputs": [
    {
     "name": "stdout",
     "output_type": "stream",
     "text": [
      "         date    sec      open      high       low     close  volume\n",
      "0  2023.01.02  18:00  1826.837  1827.337  1826.617  1826.637       0\n",
      "1  2023.01.02  18:01  1826.537  1827.357  1826.137  1826.537       0\n",
      "2  2023.01.02  18:02  1826.137  1826.737  1826.137  1826.737       0\n",
      "3  2023.01.02  18:05  1827.187  1828.867  1827.187  1828.738       0\n",
      "4  2023.01.02  18:06  1828.758  1829.958  1828.758  1829.497       0\n",
      "date      0\n",
      "sec       0\n",
      "open      0\n",
      "high      0\n",
      "low       0\n",
      "close     0\n",
      "volume    0\n",
      "dtype: int64\n",
      "date       object\n",
      "sec        object\n",
      "open      float64\n",
      "high      float64\n",
      "low       float64\n",
      "close     float64\n",
      "volume      int64\n",
      "dtype: object\n"
     ]
    }
   ],
   "source": [
    "# load the data\n",
    "xau23 = pd.read_csv(\"./data/xau23.csv\", header=None)\n",
    "xau22 = pd.read_csv(\"./data/xau22.csv\", header=None)\n",
    "xau21 = pd.read_csv(\"./data/xau21.csv\", header=None)\n",
    "\n",
    "# create a columns name\n",
    "cname= [\"date\",\"sec\",\"open\", \"high\", \"low\", \"close\",\"volume\"]\n",
    "xau23.columns = cname\n",
    "xau22.columns = cname\n",
    "xau21.columns = cname\n",
    "\n",
    "# union the data set \n",
    "xau_data = pd.concat([xau23,xau22,xau21])\n",
    "print(xau_data.head())\n",
    "\n",
    "# Check for N/A\n",
    "print(xau_data.isna().sum())\n",
    "# Check for types\n",
    "print(xau_data.dtypes)"
   ]
  },
  {
   "attachments": {},
   "cell_type": "markdown",
   "metadata": {},
   "source": [
    "## Data Processing"
   ]
  },
  {
   "attachments": {},
   "cell_type": "markdown",
   "metadata": {},
   "source": [
    "#### Adding datetime format"
   ]
  },
  {
   "cell_type": "code",
   "execution_count": 44,
   "metadata": {},
   "outputs": [
    {
     "name": "stdout",
     "output_type": "stream",
     "text": [
      "datetime    datetime64[ns]\n",
      "open               float64\n",
      "high               float64\n",
      "low                float64\n",
      "close              float64\n",
      "volume               int64\n",
      "dtype: object\n"
     ]
    }
   ],
   "source": [
    "# combine the date and time columns into a single string\n",
    "xau_data['datetime'] = xau_data['date'] + xau_data['sec']\n",
    "\n",
    "# convert the combined string to a Pandas datetime object\n",
    "xau_data['datetime'] = pd.to_datetime(xau_data['datetime'], format = '%Y.%m.%d%H:%M')\n",
    "\n",
    "# reselect the data\n",
    "xau_data = xau_data[['datetime','open','high','low','close','volume']]\n",
    "\n",
    "# sort the data ascending\n",
    "xau_data = xau_data.sort_values(by='datetime',ascending=True)\n",
    "\n",
    "print(xau_data.dtypes)"
   ]
  },
  {
   "attachments": {},
   "cell_type": "markdown",
   "metadata": {},
   "source": [
    "#### Resampling into 1 hour interval"
   ]
  },
  {
   "cell_type": "code",
   "execution_count": 45,
   "metadata": {},
   "outputs": [
    {
     "name": "stdout",
     "output_type": "stream",
     "text": [
      "open      6170\n",
      "high      6170\n",
      "low       6170\n",
      "close     6170\n",
      "volume       0\n",
      "dtype: int64\n",
      "open      0\n",
      "high      0\n",
      "low       0\n",
      "close     0\n",
      "volume    0\n",
      "dtype: int64\n",
      "12700\n",
      "                         open      high       low     close  volume\n",
      "datetime                                                           \n",
      "2021-01-03 18:00:00  1904.998  1914.858  1903.288  1913.035       0\n",
      "2021-01-03 19:00:00  1913.025  1913.508  1909.858  1913.278       0\n",
      "2021-01-03 20:00:00  1913.278  1918.655  1912.124  1916.524       0\n",
      "2021-01-03 21:00:00  1916.558  1921.775  1915.394  1921.675       0\n",
      "2021-01-03 22:00:00  1921.695  1925.145  1920.675  1923.120       0\n"
     ]
    }
   ],
   "source": [
    "# set the datetime column as the index\n",
    "xau_data.set_index('datetime', inplace=True)\n",
    "\n",
    "# resample data into 1hour interval\n",
    "xau_data = xau_data.resample('1H').agg({'open': 'first', 'high': 'max', 'low': 'min', 'close': 'last','volume':'sum'})\n",
    "\n",
    "print(xau_data.isnull().sum())\n",
    "\n",
    "# drop null value (Market Close on those days)\n",
    "xau_data = xau_data.dropna()\n",
    "print(xau_data.isnull().sum())\n",
    "\n",
    "print(len(xau_data))\n",
    "print(xau_data.head())\n",
    "\n",
    "df = xau_data\n",
    "highs = df['high'].rolling(window=4).max().shift(-4)\n",
    "lows = df['low'].rolling(window=4).max().shift(-4)\n",
    "# create new columns for conditions \n",
    "df['high_close_diff'] = highs - df['close']\n",
    "df['low_close_diff'] = lows - df['close']\n",
    "df = df.dropna()"
   ]
  },
  {
   "attachments": {},
   "cell_type": "markdown",
   "metadata": {},
   "source": [
    "\n"
   ]
  },
  {
   "attachments": {},
   "cell_type": "markdown",
   "metadata": {},
   "source": [
    "#### Adding Condition for y"
   ]
  },
  {
   "cell_type": "code",
   "execution_count": 46,
   "metadata": {},
   "outputs": [
    {
     "name": "stdout",
     "output_type": "stream",
     "text": [
      "1 5057\n",
      "0 7639\n"
     ]
    },
    {
     "name": "stderr",
     "output_type": "stream",
     "text": [
      "C:\\Users\\pkong\\AppData\\Local\\Temp\\ipykernel_1788\\3014901381.py:9: SettingWithCopyWarning: \n",
      "A value is trying to be set on a copy of a slice from a DataFrame.\n",
      "Try using .loc[row_indexer,col_indexer] = value instead\n",
      "\n",
      "See the caveats in the documentation: https://pandas.pydata.org/pandas-docs/stable/user_guide/indexing.html#returning-a-view-versus-a-copy\n",
      "  df['target'] = df.apply(reco,axis=1)\n"
     ]
    }
   ],
   "source": [
    "def reco(row):\n",
    "    if row.low_close_diff <= -3.3:\n",
    "        return 0\n",
    "    elif row.high_close_diff >= 4.3: #I use 3 plus .3 for bit offer off-set, and 1 in case of delay ordering cause price to change.\n",
    "        return 1\n",
    "    else:\n",
    "        return 0\n",
    "\n",
    "df['target'] = df.apply(reco,axis=1)\n",
    "\n",
    "df_simu = df\n",
    "print('1', (df['target'] == 1).sum())\n",
    "print('0', (df['target'] == 0).sum())\n",
    "\n",
    "df = df[['open','high','low','close','target']]"
   ]
  },
  {
   "cell_type": "code",
   "execution_count": 47,
   "metadata": {},
   "outputs": [
    {
     "data": {
      "text/plain": [
       "5057"
      ]
     },
     "execution_count": 47,
     "metadata": {},
     "output_type": "execute_result"
    }
   ],
   "source": [
    "# df[\"mhigh\"]=highs\n",
    "# df[\"mlow\"]=lows\n",
    "# df.to_csv(\"audit.csv\")\n",
    "(df['target'] == 1).sum()"
   ]
  },
  {
   "cell_type": "code",
   "execution_count": 48,
   "metadata": {},
   "outputs": [],
   "source": [
    "# df2.to_csv('df2.csv')"
   ]
  },
  {
   "cell_type": "code",
   "execution_count": 49,
   "metadata": {},
   "outputs": [],
   "source": [
    "# df.to_csv('df.csv')"
   ]
  },
  {
   "attachments": {},
   "cell_type": "markdown",
   "metadata": {},
   "source": [
    "#### Making Training, Cross Validation, and Testing sets"
   ]
  },
  {
   "cell_type": "code",
   "execution_count": 50,
   "metadata": {},
   "outputs": [
    {
     "name": "stdout",
     "output_type": "stream",
     "text": [
      "12696\n",
      "number of training set:  8252\n",
      "number of cross validation set:  2539\n",
      "number of test set:  1904\n",
      "sum 12695\n",
      "Training set start: 2021-01-03 18:00:00 \n",
      " Training set end: 2022-05-26 16:00:00\n",
      "cross validation set start: 2022-05-26 18:00:00 \n",
      " cross validation set end: 2022-10-28 10:00:00\n",
      "test set start: 2022-10-28 11:00:00 \n",
      " test set end: 2023-02-28 19:00:00\n",
      "Shape of X_train: (8253, 4)\n",
      "Shape of y_train: (8253,)\n",
      "Shape of X_cross: (2539, 4)\n",
      "Shape of y_cross: (2539,)\n",
      "Shape of X_test: (1904, 4)\n",
      "Shape of y_test: (1904,)\n"
     ]
    }
   ],
   "source": [
    "n = len(df)\n",
    "print(n)\n",
    "\n",
    "train_n = int(round(n*0.65,0))\n",
    "print('number of training set: ', train_n)\n",
    "\n",
    "cross_n = int(round(n*0.20,0))\n",
    "print('number of cross validation set: ', cross_n)\n",
    "\n",
    "test_n = int(round(n*0.15,0))\n",
    "print('number of test set: ', test_n)\n",
    "\n",
    "print('sum', train_n + cross_n + test_n)\n",
    "\n",
    "\n",
    "train_start = str(df.iloc[0].name)\n",
    "train_end = str(df.iloc[train_n].name)\n",
    "print('Training set start: {0} \\n Training set end: {1}'.format(train_start,train_end))\n",
    "#print(df.loc[train_start:train_end])\n",
    "\n",
    "cross_start = str(df.iloc[train_n+1].name)\n",
    "cross_end = str(df.iloc[train_n+cross_n].name)\n",
    "print('cross validation set start: {0} \\n cross validation set end: {1}'.format(cross_start,cross_end))\n",
    "#print(df.loc[cross_start:cross_end])\n",
    "\n",
    "test_start = str(df.iloc[train_n + cross_n +1].name)\n",
    "test_end = str(df.iloc[n-1].name)\n",
    "print('test set start: {0} \\n test set end: {1}'.format(test_start,test_end))\n",
    "#print(df.loc[test_start:])\n",
    "\n",
    "X = df.drop(['target'], axis=1)\n",
    "\n",
    "y = df['target']\n",
    "\n",
    "\n",
    "X_train = np.asarray(X.loc[train_start:train_end])\n",
    "y_train = np.asarray(y.loc[train_start:train_end])\n",
    "\n",
    "X_cross = np.asarray(X.loc[cross_start:cross_end])\n",
    "y_cross = np.asarray(y.loc[cross_start:cross_end])\n",
    "\n",
    "X_test = np.asarray(X.loc[test_start:])\n",
    "y_test =np.asarray(y.loc[test_start:])\n",
    "\n",
    "\n",
    "\n",
    "#Extra for GridSearch\n",
    "X_train_cv = np.asarray(X.loc[train_start:cross_end])\n",
    "y_train_cv = np.asarray(y.loc[train_start:cross_end])\n",
    "\n",
    "\n",
    "print(\"Shape of X_train:\", np.shape(X_train))\n",
    "print(\"Shape of y_train:\", np.shape(y_train))\n",
    "print(\"Shape of X_cross:\", np.shape(X_cross))\n",
    "print(\"Shape of y_cross:\", np.shape(y_cross))\n",
    "print(\"Shape of X_test:\", np.shape(X_test))\n",
    "print(\"Shape of y_test:\", np.shape(y_test))\n",
    "\n",
    "\n",
    "# Below is for later simulation\n",
    "df_simu_test = df_simu.loc[test_start:]"
   ]
  },
  {
   "attachments": {},
   "cell_type": "markdown",
   "metadata": {},
   "source": [
    "####เอาไว้เรียนรู้ทำความเข้าใจ ตรงนี้สำคัญ ยากและลืมง่าย\n",
    "\n",
    "#Create a sample dataframe\n",
    "df = pd.DataFrame({'value': [2, 4, 5, 7, 6, 8, 9, 10, 11, 12, 9, 8, 6, 4, 3]})\n",
    "\n",
    "#Apply rolling window with current row included and apply max function\n",
    "window_period = 4\n",
    "df['rolling_min'] = df['value'].rolling(window=4).min().shift(-3)\n",
    "df['rolling_max'] = df['value'].rolling(window=4).max().shift(-3)\n",
    "df\n"
   ]
  },
  {
   "cell_type": "code",
   "execution_count": 51,
   "metadata": {},
   "outputs": [],
   "source": [
    "#Create Normalized Data\n",
    "def normalize_data(X):\n",
    "    means = np.mean(X, axis=0)\n",
    "    stds = np.std(X, axis=0)\n",
    "    X_norm = (X - means) / stds\n",
    "    return X_norm, means, stds\n",
    "\n",
    "#This can run multiple times\n",
    "X_train_n, X_train_means, X_train_stds = normalize_data(X_train)\n",
    "\n",
    "def normalize_data_new(X,means,stds):\n",
    "    X_norm = (X - means) / stds\n",
    "    return X_norm\n",
    "\n",
    "X_cross_n = normalize_data_new(X_cross,X_train_means,X_train_stds)\n",
    "X_test_n = normalize_data_new(X_test,X_train_means,X_train_stds)"
   ]
  },
  {
   "attachments": {},
   "cell_type": "markdown",
   "metadata": {},
   "source": [
    "##### Export Scaler"
   ]
  },
  {
   "cell_type": "code",
   "execution_count": 52,
   "metadata": {},
   "outputs": [
    {
     "name": "stdout",
     "output_type": "stream",
     "text": [
      "[1904 1904 1904 1904]\n"
     ]
    },
    {
     "data": {
      "text/plain": [
       "['scaler_long.pkl']"
      ]
     },
     "execution_count": 52,
     "metadata": {},
     "output_type": "execute_result"
    }
   ],
   "source": [
    "from joblib import dump\n",
    "scaler = StandardScaler()\n",
    "X_train_scaled = scaler.fit_transform(X_train)\n",
    "X_test_scaled = scaler.transform(X_test)\n",
    "\n",
    "print(sum(X_test_n == X_test_scaled)) # sum if true\n",
    "\n",
    "dump(scaler, 'scaler_long.pkl')"
   ]
  },
  {
   "cell_type": "markdown",
   "metadata": {},
   "source": [
    "##### Test import scaler"
   ]
  },
  {
   "cell_type": "code",
   "execution_count": 53,
   "metadata": {},
   "outputs": [
    {
     "data": {
      "text/plain": [
       "array([1904, 1904, 1904, 1904])"
      ]
     },
     "execution_count": 53,
     "metadata": {},
     "output_type": "execute_result"
    }
   ],
   "source": [
    "from joblib import load\n",
    "scaler2 = load('scaler_long.pkl')\n",
    "X_test_scaled2 = scaler2.transform(X_test)\n",
    "sum((X_test_n == X_test_scaled2) & (X_test_scaled == X_test_scaled2))"
   ]
  },
  {
   "attachments": {},
   "cell_type": "markdown",
   "metadata": {},
   "source": [
    "##### Final verification"
   ]
  },
  {
   "cell_type": "code",
   "execution_count": 54,
   "metadata": {},
   "outputs": [
    {
     "name": "stdout",
     "output_type": "stream",
     "text": [
      "mean scaler one [1823.18836217 1825.47507294 1820.76072604 1823.17453471]\n",
      "mean scaler two [1823.18836217 1825.47507294 1820.76072604 1823.17453471]\n",
      "mean manual nor [1823.18836217 1825.47507294 1820.76072604 1823.17453471]\n",
      "std scaler one [64.70528984 65.0129833  64.36380578 64.69964992]\n",
      "std scaler two [64.70528984 65.0129833  64.36380578 64.69964992]\n",
      "std manual nor [64.70528984 65.0129833  64.36380578 64.69964992]\n"
     ]
    }
   ],
   "source": [
    "mean = scaler.mean_\n",
    "std = scaler.scale_\n",
    "mean2 = scaler2.mean_\n",
    "std2 = scaler2.scale_\n",
    "print('mean scaler one',mean)\n",
    "print('mean scaler two',mean2)\n",
    "print('mean manual nor',X_train_means)\n",
    "\n",
    "print('std scaler one',std)\n",
    "print('std scaler two',std2)\n",
    "print('std manual nor',X_train_stds)\n",
    "\n"
   ]
  },
  {
   "cell_type": "markdown",
   "metadata": {},
   "source": [
    "<h2 id=\"modeling\">Modeling (SVM with Scikit-learn)</h2>\n"
   ]
  },
  {
   "attachments": {},
   "cell_type": "markdown",
   "metadata": {},
   "source": [
    "In the context of Support Vector Machines (SVM), \"C\" is a hyperparameter that controls the trade-off between maximizing the margin and minimizing the classification error on the training data.\n",
    "\n",
    "The hyperparameter \"C\" in SVM controls the misclassification penalty. A smaller value of \"C\" allows more misclassifications on the training data, while a larger value of \"C\" penalizes misclassifications more heavily. In other words, a smaller value of \"C\" creates a wider margin, allowing more data points to fall within the margin, but may result in lower accuracy on the training data. Conversely, a larger value of \"C\" creates a narrower margin, reducing the number of misclassifications but may lead to overfitting.\n",
    "\n",
    "<span style=\"color:red\">\n",
    "Large C >>> Larger penalizes >>> complex model >>> lead to overfittting <br>\n",
    "Small C >>> Smaller penalizes >>> simple model >>> underfitting\n",
    "</span>"
   ]
  },
  {
   "attachments": {},
   "cell_type": "markdown",
   "metadata": {},
   "source": [
    "## MODEL 1: LSVM"
   ]
  },
  {
   "cell_type": "code",
   "execution_count": 67,
   "metadata": {},
   "outputs": [
    {
     "name": "stdout",
     "output_type": "stream",
     "text": [
      "0.6187475384009452\n",
      "968\n",
      "1571\n"
     ]
    }
   ],
   "source": [
    "print((y_cross == 0).sum() /((y_cross == 1).sum() + (y_cross == 0).sum() ))\n",
    "print((y_cross == 1).sum())\n",
    "print((y_cross == 0).sum())"
   ]
  },
  {
   "cell_type": "code",
   "execution_count": 56,
   "metadata": {},
   "outputs": [
    {
     "name": "stdout",
     "output_type": "stream",
     "text": [
      "C=0.001, Train score=0.6022052586938084, cross score=0.6187475384009452\n",
      "C=0.01, Train score=0.6030534351145038, cross score=0.6187475384009452\n",
      "C=0.1, Train score=0.6074154852780806, cross score=0.6199291059472233\n",
      "C=0.5, Train score=0.6116563673815583, cross score=0.6226860968885388\n",
      "C=1, Train score=0.6131103841027505, cross score=0.6234738085860575\n",
      "C=1.5, Train score=0.6129892160426511, cross score=0.6230799527372981\n",
      "C=2, Train score=0.6127468799224525, cross score=0.6222922410397794\n",
      "C=10, Train score=0.6118987035017569, cross score=0.6222922410397794\n"
     ]
    },
    {
     "name": "stderr",
     "output_type": "stream",
     "text": [
      "c:\\Users\\pkong\\LSVM-XAUUSD\\venv\\lib\\site-packages\\sklearn\\svm\\_base.py:1244: ConvergenceWarning: Liblinear failed to converge, increase the number of iterations.\n",
      "  warnings.warn(\n"
     ]
    },
    {
     "name": "stdout",
     "output_type": "stream",
     "text": [
      "C=100, Train score=0.6117775354416576, cross score=0.6222922410397794\n",
      "The best 'C' is: 1\n",
      "score: 0.62\n",
      "Accuracy_score:  0.62\n",
      "weight avg 0.51\n",
      "jaccard:  0.06\n",
      "              precision    recall  f1-score   support\n",
      "\n",
      "           0       0.63      0.97      0.76      1571\n",
      "           1       0.56      0.06      0.11       968\n",
      "\n",
      "    accuracy                           0.62      2539\n",
      "   macro avg       0.59      0.52      0.43      2539\n",
      "weighted avg       0.60      0.62      0.51      2539\n",
      "\n"
     ]
    },
    {
     "data": {
      "image/png": "[encoded data removed]",
      "text/plain": [
       "<Figure size 640x480 with 2 Axes>"
      ]
     },
     "metadata": {},
     "output_type": "display_data"
    }
   ],
   "source": [
    "# Define a list of hyperparameters to loop through\n",
    "#################larger value of C imposes less regularization on the model\n",
    "Cs = [0.001,0.01, 0.1,0.5, 1, 1.5, 2, 10,100]\n",
    "\n",
    "# Initialize variables to keep track of the best hyperparameters and their corresponding score\n",
    "best_score = 0\n",
    "best_C = None\n",
    "max_iter = 20000\n",
    "features_X_train = X_train_n\n",
    "target_y_train = y_train\n",
    "features_X_cross = X_cross_n\n",
    "target_y_cross = y_cross\n",
    "# Loop through the hyperparameters\n",
    "for C in Cs:\n",
    "    lsvm = LinearSVC(penalty='l2', loss='squared_hinge', dual=True, C=C, max_iter=max_iter)\n",
    "    lsvm.fit(X_train_n, y_train)\n",
    "    train_score = lsvm.score(features_X_train, target_y_train)\n",
    "    cross_score = lsvm.score(features_X_cross, target_y_cross)\n",
    "    print(f\"C={C}, Train score={train_score}, cross score={cross_score}\")\n",
    "    \n",
    "    # Update the best hyperparameters and their corresponding score if applicable\n",
    "    if train_score > best_score:\n",
    "        best_score = train_score\n",
    "        best_C = C\n",
    "\n",
    "print(\"The best 'C' is:\", best_C)\n",
    "# Create the LinearSVC model with normalization and the best value of C\n",
    "lsvm = LinearSVC(penalty='l2', loss='squared_hinge', dual=True, C=best_C, max_iter=max_iter)\n",
    "\n",
    "# Fit the model to the training data\n",
    "lsvm.fit(features_X_train, target_y_train)\n",
    "\n",
    "\n",
    "#EVALUATION\n",
    "test_score = round(lsvm.score(features_X_cross, target_y_cross),2)\n",
    "print(\"score:\", test_score)\n",
    "\n",
    "\n",
    "yhat_m1 = lsvm.predict(features_X_cross)\n",
    "accuracy_m1 = round(accuracy_score(target_y_cross,yhat_m1),2)\n",
    "print('Accuracy_score: ', accuracy_m1)\n",
    "\n",
    "f1 = round(f1_score(target_y_cross, yhat_m1, average='weighted'), 2)\n",
    "print('weight avg', f1)\n",
    "\n",
    "jaccard = round(jaccard_score(target_y_cross, yhat_m1,pos_label=1),2)\n",
    "print('jaccard: ', jaccard)\n",
    "\n",
    "print(metrics.classification_report(target_y_cross, yhat_m1))\n",
    "\n",
    "\n",
    "from sklearn.metrics import confusion_matrix, ConfusionMatrixDisplay\n",
    "disp = ConfusionMatrixDisplay.from_estimator(lsvm, features_X_cross, target_y_cross)\n"
   ]
  },
  {
   "cell_type": "code",
   "execution_count": 57,
   "metadata": {},
   "outputs": [
    {
     "name": "stdout",
     "output_type": "stream",
     "text": [
      "possible combination: 648\n",
      "Fitting 5 folds for each of 129 candidates, totalling 645 fits\n",
      "{'reg_lambda': 10, 'reg_alpha': 0.1, 'n_estimators': 200, 'max_depth': 3, 'learning_rate': 0.01, 'gamma': 0.1}\n"
     ]
    },
    {
     "data": {
      "text/html": [
       "<style>#sk-container-id-3 {color: black;background-color: white;}#sk-container-id-3 pre{padding: 0;}#sk-container-id-3 div.sk-toggleable {background-color: white;}#sk-container-id-3 label.sk-toggleable__label {cursor: pointer;display: block;width: 100%;margin-bottom: 0;padding: 0.3em;box-sizing: border-box;text-align: center;}#sk-container-id-3 label.sk-toggleable__label-arrow:before {content: \"▸\";float: left;margin-right: 0.25em;color: #696969;}#sk-container-id-3 label.sk-toggleable__label-arrow:hover:before {color: black;}#sk-container-id-3 div.sk-estimator:hover label.sk-toggleable__label-arrow:before {color: black;}#sk-container-id-3 div.sk-toggleable__content {max-height: 0;max-width: 0;overflow: hidden;text-align: left;background-color: #f0f8ff;}#sk-container-id-3 div.sk-toggleable__content pre {margin: 0.2em;color: black;border-radius: 0.25em;background-color: #f0f8ff;}#sk-container-id-3 input.sk-toggleable__control:checked~div.sk-toggleable__content {max-height: 200px;max-width: 100%;overflow: auto;}#sk-container-id-3 input.sk-toggleable__control:checked~label.sk-toggleable__label-arrow:before {content: \"▾\";}#sk-container-id-3 div.sk-estimator input.sk-toggleable__control:checked~label.sk-toggleable__label {background-color: #d4ebff;}#sk-container-id-3 div.sk-label input.sk-toggleable__control:checked~label.sk-toggleable__label {background-color: #d4ebff;}#sk-container-id-3 input.sk-hidden--visually {border: 0;clip: rect(1px 1px 1px 1px);clip: rect(1px, 1px, 1px, 1px);height: 1px;margin: -1px;overflow: hidden;padding: 0;position: absolute;width: 1px;}#sk-container-id-3 div.sk-estimator {font-family: monospace;background-color: #f0f8ff;border: 1px dotted black;border-radius: 0.25em;box-sizing: border-box;margin-bottom: 0.5em;}#sk-container-id-3 div.sk-estimator:hover {background-color: #d4ebff;}#sk-container-id-3 div.sk-parallel-item::after {content: \"\";width: 100%;border-bottom: 1px solid gray;flex-grow: 1;}#sk-container-id-3 div.sk-label:hover label.sk-toggleable__label {background-color: #d4ebff;}#sk-container-id-3 div.sk-serial::before {content: \"\";position: absolute;border-left: 1px solid gray;box-sizing: border-box;top: 0;bottom: 0;left: 50%;z-index: 0;}#sk-container-id-3 div.sk-serial {display: flex;flex-direction: column;align-items: center;background-color: white;padding-right: 0.2em;padding-left: 0.2em;position: relative;}#sk-container-id-3 div.sk-item {position: relative;z-index: 1;}#sk-container-id-3 div.sk-parallel {display: flex;align-items: stretch;justify-content: center;background-color: white;position: relative;}#sk-container-id-3 div.sk-item::before, #sk-container-id-3 div.sk-parallel-item::before {content: \"\";position: absolute;border-left: 1px solid gray;box-sizing: border-box;top: 0;bottom: 0;left: 50%;z-index: -1;}#sk-container-id-3 div.sk-parallel-item {display: flex;flex-direction: column;z-index: 1;position: relative;background-color: white;}#sk-container-id-3 div.sk-parallel-item:first-child::after {align-self: flex-end;width: 50%;}#sk-container-id-3 div.sk-parallel-item:last-child::after {align-self: flex-start;width: 50%;}#sk-container-id-3 div.sk-parallel-item:only-child::after {width: 0;}#sk-container-id-3 div.sk-dashed-wrapped {border: 1px dashed gray;margin: 0 0.4em 0.5em 0.4em;box-sizing: border-box;padding-bottom: 0.4em;background-color: white;}#sk-container-id-3 div.sk-label label {font-family: monospace;font-weight: bold;display: inline-block;line-height: 1.2em;}#sk-container-id-3 div.sk-label-container {text-align: center;}#sk-container-id-3 div.sk-container {/* jupyter's `normalize.less` sets `[hidden] { display: none; }` but bootstrap.min.css set `[hidden] { display: none !important; }` so we also need the `!important` here to be able to override the default hidden behavior on the sphinx rendered scikit-learn.org. See: https://github.com/scikit-learn/scikit-learn/issues/21755 */display: inline-block !important;position: relative;}#sk-container-id-3 div.sk-text-repr-fallback {display: none;}</style><div id=\"sk-container-id-3\" class=\"sk-top-container\"><div class=\"sk-text-repr-fallback\"><pre>XGBRegressor(base_score=None, booster=None, callbacks=None,\n",
       "             colsample_bylevel=None, colsample_bynode=None,\n",
       "             colsample_bytree=None, early_stopping_rounds=None,\n",
       "             enable_categorical=False, eval_metric=None, feature_types=None,\n",
       "             gamma=0.1, gpu_id=None, grow_policy=None, importance_type=None,\n",
       "             interaction_constraints=None, learning_rate=0.01, max_bin=None,\n",
       "             max_cat_threshold=None, max_cat_to_onehot=None,\n",
       "             max_delta_step=None, max_depth=3, max_leaves=None,\n",
       "             min_child_weight=None, missing=nan, monotone_constraints=None,\n",
       "             n_estimators=200, n_jobs=None, num_parallel_tree=None,\n",
       "             predictor=None, random_state=None, ...)</pre><b>In a Jupyter environment, please rerun this cell to show the HTML representation or trust the notebook. <br />On GitHub, the HTML representation is unable to render, please try loading this page with nbviewer.org.</b></div><div class=\"sk-container\" hidden><div class=\"sk-item\"><div class=\"sk-estimator sk-toggleable\"><input class=\"sk-toggleable__control sk-hidden--visually\" id=\"sk-estimator-id-3\" type=\"checkbox\" checked><label for=\"sk-estimator-id-3\" class=\"sk-toggleable__label sk-toggleable__label-arrow\">XGBRegressor</label><div class=\"sk-toggleable__content\"><pre>XGBRegressor(base_score=None, booster=None, callbacks=None,\n",
       "             colsample_bylevel=None, colsample_bynode=None,\n",
       "             colsample_bytree=None, early_stopping_rounds=None,\n",
       "             enable_categorical=False, eval_metric=None, feature_types=None,\n",
       "             gamma=0.1, gpu_id=None, grow_policy=None, importance_type=None,\n",
       "             interaction_constraints=None, learning_rate=0.01, max_bin=None,\n",
       "             max_cat_threshold=None, max_cat_to_onehot=None,\n",
       "             max_delta_step=None, max_depth=3, max_leaves=None,\n",
       "             min_child_weight=None, missing=nan, monotone_constraints=None,\n",
       "             n_estimators=200, n_jobs=None, num_parallel_tree=None,\n",
       "             predictor=None, random_state=None, ...)</pre></div></div></div></div></div>"
      ],
      "text/plain": [
       "XGBRegressor(base_score=None, booster=None, callbacks=None,\n",
       "             colsample_bylevel=None, colsample_bynode=None,\n",
       "             colsample_bytree=None, early_stopping_rounds=None,\n",
       "             enable_categorical=False, eval_metric=None, feature_types=None,\n",
       "             gamma=0.1, gpu_id=None, grow_policy=None, importance_type=None,\n",
       "             interaction_constraints=None, learning_rate=0.01, max_bin=None,\n",
       "             max_cat_threshold=None, max_cat_to_onehot=None,\n",
       "             max_delta_step=None, max_depth=3, max_leaves=None,\n",
       "             min_child_weight=None, missing=nan, monotone_constraints=None,\n",
       "             n_estimators=200, n_jobs=None, num_parallel_tree=None,\n",
       "             predictor=None, random_state=None, ...)"
      ]
     },
     "execution_count": 57,
     "metadata": {},
     "output_type": "execute_result"
    }
   ],
   "source": [
    "import xgboost as xgb\n",
    "from sklearn.model_selection import TimeSeriesSplit\n",
    "from sklearn.model_selection import GridSearchCV, RandomizedSearchCV\n",
    "from scipy.stats import uniform, randint # this will indirectly use in TimeSeriesSplit\n",
    "\n",
    "# Define the hyperparameter space\n",
    "param_dist = {'n_estimators': [100, 200, 300],\n",
    "              'max_depth': [3, 6, 9],\n",
    "              'gamma': [0.01, 0.1],\n",
    "              'learning_rate': [0.001, 0.01, 0.1, 1],\n",
    "              'reg_lambda': [0.1, 1, 10],\n",
    "              'reg_alpha': [0.1, 1, 10]}\n",
    "\n",
    "def count_hyperparam_combinations(param_dict):\n",
    "    total_combinations = 1\n",
    "    for key in param_dict:\n",
    "        total_combinations *= len(param_dict[key])\n",
    "    return total_combinations\n",
    "\n",
    "possible_combination = count_hyperparam_combinations(param_dist)\n",
    "print(\"possible combination:\", possible_combination)\n",
    "\n",
    "\n",
    "# Create a time series split object\n",
    "tscv = TimeSeriesSplit(n_splits=5)\n",
    "\n",
    "# Scale the training data\n",
    "scaler = StandardScaler()\n",
    "features_X_train = scaler.fit_transform(X_train)\n",
    "target_y_train = y_train\n",
    "\n",
    "\n",
    "\n",
    "# Create a random search object\n",
    "model_xgb = xgb.XGBRegressor(seed=42) # set seed to 42 to fix how model randomize sets of cv, this is for reproducibility.\n",
    "random_search = RandomizedSearchCV(model_xgb, param_distributions=param_dist, cv=tscv, n_iter=possible_combination-(possible_combination*0.8), verbose=1, n_jobs=-1)\n",
    "\n",
    "# Fit the random search object to the data\n",
    "random_search.fit(features_X_train, target_y_train)\n",
    "\n",
    "# Print the best hyperparameters found by the random search\n",
    "print(random_search.best_params_)\n",
    "\n",
    "# Create the final model using the best hyperparameters\n",
    "model_xgb = xgb.XGBRegressor(seed=42, **random_search.best_params_)\n",
    "\n",
    "\n",
    "# Fit the final model to the training data\n",
    "model_xgb.fit(features_X_train, y_train)\n"
   ]
  },
  {
   "cell_type": "code",
   "execution_count": 58,
   "metadata": {},
   "outputs": [
    {
     "name": "stdout",
     "output_type": "stream",
     "text": [
      "Accuracy score: 0.5636077195746357\n",
      "F1 score: 0.5608237726818395\n",
      "Jaccard score: 0.2578700602813128\n",
      "              precision    recall  f1-score   support\n",
      "\n",
      "           0       0.64      0.67      0.65      1571\n",
      "           1       0.42      0.40      0.41       968\n",
      "\n",
      "    accuracy                           0.56      2539\n",
      "   macro avg       0.53      0.53      0.53      2539\n",
      "weighted avg       0.56      0.56      0.56      2539\n",
      "\n"
     ]
    },
    {
     "data": {
      "text/plain": [
       "<sklearn.metrics._plot.confusion_matrix.ConfusionMatrixDisplay at 0x1c7adc7e0a0>"
      ]
     },
     "execution_count": 58,
     "metadata": {},
     "output_type": "execute_result"
    },
    {
     "data": {
      "image/png": "[encoded data removed]",
      "text/plain": [
       "<Figure size 640x480 with 2 Axes>"
      ]
     },
     "metadata": {},
     "output_type": "display_data"
    }
   ],
   "source": [
    "# Normalize the test data using the same scaler used for training data\n",
    "features_X_cross = scaler.transform(X_cross)\n",
    "target_y_cross = y_cross\n",
    "\n",
    "# Make predictions using the XGBoost model\n",
    "yhat_m2_pred = model_xgb.predict(features_X_cross)\n",
    "\n",
    "# Convert the predicted values to binary labels (0 or 1) using a threshold of 0.5\n",
    "yhat_m2 = (yhat_m2_pred > 0.5).astype(int)\n",
    "\n",
    "# Evaluate the model performance on the test set\n",
    "accuracy = accuracy_score(target_y_cross, yhat_m2)\n",
    "f1 = f1_score(target_y_cross, yhat_m2, average='weighted')\n",
    "jaccard = jaccard_score(target_y_cross, yhat_m2)\n",
    "\n",
    "# Print the evaluation metrics\n",
    "print(\"Accuracy score:\", accuracy)\n",
    "print(\"F1 score:\", f1)\n",
    "print(\"Jaccard score:\", jaccard)\n",
    "\n",
    "\n",
    "\n",
    "# Make predictions using the XGBoost model\n",
    "yhat_m2_pred = model_xgb.predict(features_X_cross)\n",
    "\n",
    "# Convert the predicted values to binary labels (0 or 1) using a threshold of 0.5\n",
    "yhat_m2 = (yhat_m2_pred > 0.5).astype(int)\n",
    "\n",
    "#report\n",
    "print(metrics.classification_report(target_y_cross, yhat_m2))\n",
    "\n",
    "# Plot the confusion matrix\n",
    "cm = confusion_matrix(target_y_cross, yhat_m2)\n",
    "disp = ConfusionMatrixDisplay(confusion_matrix=cm, display_labels=np.unique(target_y_cross))\n",
    "disp.plot()\n"
   ]
  },
  {
   "cell_type": "code",
   "execution_count": 59,
   "metadata": {},
   "outputs": [
    {
     "name": "stdout",
     "output_type": "stream",
     "text": [
      "score_train: 0.6091118381194717, score_cross: 0.625049231981095, C: 0.01, penalty: l2\n",
      "score_train: 0.6087483339391736, score_cross: 0.625049231981095, C: 0.1, penalty: l2\n",
      "score_train: 0.6087483339391736, score_cross: 0.625049231981095, C: 1, penalty: l2\n",
      "score_train: 0.6087483339391736, score_cross: 0.625049231981095, C: 10, penalty: l2\n",
      "score_train: 0.6087483339391736, score_cross: 0.625049231981095, C: 100, penalty: l2\n",
      "Without Normalization\n",
      "Best hyperparameters: {'C': 0.01, 'penalty': 'l2'}\n",
      "Cross set score: 0.6091118381194717\n",
      "score_train: 0.6023264267539077, score_cross: 0.6187475384009452, C: 0.01, penalty: l2\n",
      "score_train: 0.6034169392948019, score_cross: 0.6191413942497046, C: 0.1, penalty: l2\n",
      "score_train: 0.6069308130376833, score_cross: 0.6215045293422607, C: 1, penalty: l2\n",
      "score_train: 0.6127468799224525, score_cross: 0.6222922410397794, C: 10, penalty: l2\n",
      "score_train: 0.6123833757421544, score_cross: 0.6226860968885388, C: 100, penalty: l2\n",
      "With Normalization\n",
      "Best hyperparameters: {'C': 10, 'penalty': 'l2'}\n",
      "Cross set score: 0.6127468799224525\n",
      "BEST COMBINATION hyperparameters: {'C': 10, 'penalty': 'l2'}, With normalization: True\n"
     ]
    },
    {
     "data": {
      "text/html": [
       "<style>#sk-container-id-4 {color: black;background-color: white;}#sk-container-id-4 pre{padding: 0;}#sk-container-id-4 div.sk-toggleable {background-color: white;}#sk-container-id-4 label.sk-toggleable__label {cursor: pointer;display: block;width: 100%;margin-bottom: 0;padding: 0.3em;box-sizing: border-box;text-align: center;}#sk-container-id-4 label.sk-toggleable__label-arrow:before {content: \"▸\";float: left;margin-right: 0.25em;color: #696969;}#sk-container-id-4 label.sk-toggleable__label-arrow:hover:before {color: black;}#sk-container-id-4 div.sk-estimator:hover label.sk-toggleable__label-arrow:before {color: black;}#sk-container-id-4 div.sk-toggleable__content {max-height: 0;max-width: 0;overflow: hidden;text-align: left;background-color: #f0f8ff;}#sk-container-id-4 div.sk-toggleable__content pre {margin: 0.2em;color: black;border-radius: 0.25em;background-color: #f0f8ff;}#sk-container-id-4 input.sk-toggleable__control:checked~div.sk-toggleable__content {max-height: 200px;max-width: 100%;overflow: auto;}#sk-container-id-4 input.sk-toggleable__control:checked~label.sk-toggleable__label-arrow:before {content: \"▾\";}#sk-container-id-4 div.sk-estimator input.sk-toggleable__control:checked~label.sk-toggleable__label {background-color: #d4ebff;}#sk-container-id-4 div.sk-label input.sk-toggleable__control:checked~label.sk-toggleable__label {background-color: #d4ebff;}#sk-container-id-4 input.sk-hidden--visually {border: 0;clip: rect(1px 1px 1px 1px);clip: rect(1px, 1px, 1px, 1px);height: 1px;margin: -1px;overflow: hidden;padding: 0;position: absolute;width: 1px;}#sk-container-id-4 div.sk-estimator {font-family: monospace;background-color: #f0f8ff;border: 1px dotted black;border-radius: 0.25em;box-sizing: border-box;margin-bottom: 0.5em;}#sk-container-id-4 div.sk-estimator:hover {background-color: #d4ebff;}#sk-container-id-4 div.sk-parallel-item::after {content: \"\";width: 100%;border-bottom: 1px solid gray;flex-grow: 1;}#sk-container-id-4 div.sk-label:hover label.sk-toggleable__label {background-color: #d4ebff;}#sk-container-id-4 div.sk-serial::before {content: \"\";position: absolute;border-left: 1px solid gray;box-sizing: border-box;top: 0;bottom: 0;left: 50%;z-index: 0;}#sk-container-id-4 div.sk-serial {display: flex;flex-direction: column;align-items: center;background-color: white;padding-right: 0.2em;padding-left: 0.2em;position: relative;}#sk-container-id-4 div.sk-item {position: relative;z-index: 1;}#sk-container-id-4 div.sk-parallel {display: flex;align-items: stretch;justify-content: center;background-color: white;position: relative;}#sk-container-id-4 div.sk-item::before, #sk-container-id-4 div.sk-parallel-item::before {content: \"\";position: absolute;border-left: 1px solid gray;box-sizing: border-box;top: 0;bottom: 0;left: 50%;z-index: -1;}#sk-container-id-4 div.sk-parallel-item {display: flex;flex-direction: column;z-index: 1;position: relative;background-color: white;}#sk-container-id-4 div.sk-parallel-item:first-child::after {align-self: flex-end;width: 50%;}#sk-container-id-4 div.sk-parallel-item:last-child::after {align-self: flex-start;width: 50%;}#sk-container-id-4 div.sk-parallel-item:only-child::after {width: 0;}#sk-container-id-4 div.sk-dashed-wrapped {border: 1px dashed gray;margin: 0 0.4em 0.5em 0.4em;box-sizing: border-box;padding-bottom: 0.4em;background-color: white;}#sk-container-id-4 div.sk-label label {font-family: monospace;font-weight: bold;display: inline-block;line-height: 1.2em;}#sk-container-id-4 div.sk-label-container {text-align: center;}#sk-container-id-4 div.sk-container {/* jupyter's `normalize.less` sets `[hidden] { display: none; }` but bootstrap.min.css set `[hidden] { display: none !important; }` so we also need the `!important` here to be able to override the default hidden behavior on the sphinx rendered scikit-learn.org. See: https://github.com/scikit-learn/scikit-learn/issues/21755 */display: inline-block !important;position: relative;}#sk-container-id-4 div.sk-text-repr-fallback {display: none;}</style><div id=\"sk-container-id-4\" class=\"sk-top-container\"><div class=\"sk-text-repr-fallback\"><pre>LogisticRegression(C=10, solver=&#x27;liblinear&#x27;)</pre><b>In a Jupyter environment, please rerun this cell to show the HTML representation or trust the notebook. <br />On GitHub, the HTML representation is unable to render, please try loading this page with nbviewer.org.</b></div><div class=\"sk-container\" hidden><div class=\"sk-item\"><div class=\"sk-estimator sk-toggleable\"><input class=\"sk-toggleable__control sk-hidden--visually\" id=\"sk-estimator-id-4\" type=\"checkbox\" checked><label for=\"sk-estimator-id-4\" class=\"sk-toggleable__label sk-toggleable__label-arrow\">LogisticRegression</label><div class=\"sk-toggleable__content\"><pre>LogisticRegression(C=10, solver=&#x27;liblinear&#x27;)</pre></div></div></div></div></div>"
      ],
      "text/plain": [
       "LogisticRegression(C=10, solver='liblinear')"
      ]
     },
     "execution_count": 59,
     "metadata": {},
     "output_type": "execute_result"
    }
   ],
   "source": [
    "# Mad man method loop through everything\n",
    "#   larger value of C imposes less regularization on the model\n",
    "params = {'C': [0.01, 0.1, 1, 10, 100], 'penalty': ['l2']}\n",
    "lr = LogisticRegression(solver='liblinear')\n",
    "best_score_no_norm = 0\n",
    "best_params = {}\n",
    "\n",
    "features_X_train = X_train\n",
    "target_y_train = y_train\n",
    "features_X_cross = X_cross\n",
    "target_y_cross = y_cross\n",
    "\n",
    "for c in params['C']:\n",
    "    for p in params['penalty']:\n",
    "        lr.set_params(C=c, penalty=p)\n",
    "        lr.fit(features_X_train, target_y_train)\n",
    "        score_train = lr.score(features_X_train,target_y_train)\n",
    "        score_cross = lr.score(features_X_cross, target_y_cross)\n",
    "        print(\"score_train: {0}, score_cross: {1}, C: {2}, penalty: {3}\".format(score_train,score_cross,c,p))\n",
    "        if score_train > best_score_no_norm:\n",
    "            best_score_no_norm = score_train\n",
    "            best_params_no_norm = {'C': c, 'penalty': p}\n",
    "print(\"Without Normalization\")\n",
    "print(\"Best hyperparameters:\", best_params_no_norm)\n",
    "print(\"Cross set score:\", best_score_no_norm)\n",
    "\n",
    "#------------\n",
    "\n",
    "lr = LogisticRegression(solver='liblinear')\n",
    "best_score_norm = 0\n",
    "best_params_norm = {}\n",
    "\n",
    "features_X_train = X_train_n\n",
    "target_y_train = y_train\n",
    "features_X_cross = X_cross_n\n",
    "target_y_cross = y_cross\n",
    "\n",
    "for c in params['C']:\n",
    "    for p in params['penalty']:\n",
    "        \n",
    "        lr.set_params(C=c, penalty=p)\n",
    "        lr.fit(features_X_train, target_y_train)\n",
    "        \n",
    "        score_train = lr.score(features_X_train,target_y_train)\n",
    "        score_cross = lr.score(features_X_cross, target_y_cross)\n",
    "        print(\"score_train: {0}, score_cross: {1}, C: {2}, penalty: {3}\".format(score_train,score_cross,c,p))\n",
    "        if score_train > best_score_norm:\n",
    "            best_score_norm = score_train\n",
    "            best_params_norm = {'C': c, 'penalty': p}\n",
    "print(\"With Normalization\")\n",
    "print(\"Best hyperparameters:\", best_params_norm)\n",
    "print(\"Cross set score:\", best_score_norm)\n",
    "\n",
    "if best_score_no_norm >= best_score_norm:\n",
    "    best_params = best_params_no_norm\n",
    "    features_X_train = X_train\n",
    "    target_y_train = y_train\n",
    "    features_X_cross = X_cross\n",
    "    target_y_cross = y_cross\n",
    "    isnorm = False\n",
    "elif best_score_norm >= best_score_no_norm:\n",
    "    best_params = best_params_norm\n",
    "    isnorm = True\n",
    "else:\n",
    "    raise ValueError('no condition met')\n",
    "\n",
    "print(\"BEST COMBINATION hyperparameters: {0}, With normalization: {1}\".format(best_params,isnorm))\n",
    "\n",
    "lr = LogisticRegression(solver='liblinear', C=best_params['C'],penalty=best_params['penalty'])##(** is for unpacking dictionary)\n",
    "lr.fit(features_X_train, target_y_train)"
   ]
  },
  {
   "cell_type": "code",
   "execution_count": 60,
   "metadata": {},
   "outputs": [
    {
     "name": "stdout",
     "output_type": "stream",
     "text": [
      "cross set score: 0.6222922410397794\n",
      "Accuracy:  0.6222922410397794\n",
      "Jaccard 0.058881256133464184\n",
      "              precision    recall  f1-score   support\n",
      "\n",
      "           0       0.63      0.97      0.76      1571\n",
      "           1       0.54      0.06      0.11       968\n",
      "\n",
      "    accuracy                           0.62      2539\n",
      "   macro avg       0.58      0.51      0.44      2539\n",
      "weighted avg       0.59      0.62      0.51      2539\n",
      "\n"
     ]
    },
    {
     "data": {
      "text/plain": [
       "<sklearn.metrics._plot.confusion_matrix.ConfusionMatrixDisplay at 0x1c7abb34790>"
      ]
     },
     "execution_count": 60,
     "metadata": {},
     "output_type": "execute_result"
    },
    {
     "data": {
      "image/png": "[encoded data removed]",
      "text/plain": [
       "<Figure size 640x480 with 2 Axes>"
      ]
     },
     "metadata": {},
     "output_type": "display_data"
    }
   ],
   "source": [
    "cross_score = lr.score(features_X_cross, target_y_cross)\n",
    "print(\"cross set score:\", cross_score)\n",
    "\n",
    "yhat_m3 = lr.predict(features_X_cross)\n",
    "\n",
    "accuracy_m3 = accuracy_score(target_y_cross,yhat_m3)\n",
    "print('Accuracy: ', accuracy_m3)\n",
    "\n",
    "jaccard_m3 = jaccard_score(target_y_cross, yhat_m3,pos_label=1)\n",
    "print('Jaccard' , jaccard_m3)\n",
    "\n",
    "print(metrics.classification_report(target_y_cross,yhat_m3))\n",
    "\n",
    "# Plot the confusion matrix\n",
    "cm = confusion_matrix(target_y_cross, yhat_m3)\n",
    "disp = ConfusionMatrixDisplay(confusion_matrix=cm, display_labels=np.unique(target_y_cross))\n",
    "disp.plot()"
   ]
  },
  {
   "cell_type": "markdown",
   "metadata": {},
   "source": [
    "# SIMULATION PART"
   ]
  },
  {
   "cell_type": "code",
   "execution_count": 61,
   "metadata": {},
   "outputs": [
    {
     "name": "stdout",
     "output_type": "stream",
     "text": [
      "-----cross-----\n",
      "The value should be:>> yhat = 0: 2435<<, >> yhat = 1: 104<<\n",
      "2435\n",
      "104\n",
      "-----test-----\n",
      "1801\n",
      "103\n"
     ]
    }
   ],
   "source": [
    "X_test_simu = X.loc[test_start:]\n",
    "X_test_simu_n = normalize_data_new(X_test_simu,X_train_means,X_train_stds)\n",
    "\n",
    "X_cross_simu = X.loc[cross_start:cross_end]\n",
    "X_cross_simu_n = normalize_data_new(X_cross_simu,X_train_means,X_train_stds)\n",
    "\n",
    "def predict_count(data_simu):\n",
    "    adding = []\n",
    "    for i in range(0,len(data_simu)):\n",
    "        prediction = str(lsvm.predict(data_simu.iloc[i].values.reshape(1,-1))).strip('[]')\n",
    "        adding.append(prediction)\n",
    "    print(adding.count('0'))\n",
    "    print(adding.count('1'))\n",
    "\n",
    "\n",
    "print('-----cross-----')\n",
    "print('The value should be:>> yhat = 0: {0}<<, >> yhat = 1: {1}<<'.format(np.count_nonzero(yhat_m1 == 0),np.count_nonzero(yhat_m1 == 1)))\n",
    "predict_count(X_cross_simu_n)\n",
    "\n",
    "print('-----test-----')\n",
    "predict_count(X_test_simu_n)"
   ]
  },
  {
   "cell_type": "code",
   "execution_count": 62,
   "metadata": {},
   "outputs": [],
   "source": [
    "def predict_simu(model, data_simu_x_n, data_simu_y, initial_capital):\n",
    "    capital = initial_capital\n",
    "    win_count = 0\n",
    "    lost_count = 0\n",
    "    no_order_count = 0\n",
    "    record_result = []\n",
    "    record_capital = []\n",
    "    record_date = []\n",
    "    consecutive_lost = 0\n",
    "    consecutive_lost_max = 0\n",
    "    for i in range(0, len(data_simu_x_n)):\n",
    "        prediction = model.predict(data_simu_x_n.iloc[i].values.reshape(1,-1))\n",
    "        \n",
    "        if prediction == 1 and data_simu_y[i] == 1:\n",
    "            outcome = 3\n",
    "            capital += outcome\n",
    "            win_count += 1\n",
    "            order_record = 'win-------- prediction = {0}, actual = {1}'.format(prediction,data_simu_y[i])\n",
    "            result = 'win'\n",
    "        elif prediction == 1 and data_simu_y[i] == 0:\n",
    "            outcome = -3.3\n",
    "            capital += outcome\n",
    "            lost_count += 1\n",
    "            order_record = 'lost------- prediction = {0}, actual = {1}'.format(prediction,data_simu_y[i])\n",
    "            result = 'lost'\n",
    "        elif prediction == 0:\n",
    "            no_order_count +=1\n",
    "            order_record = 'no order--- prediction = {0}, actual = {1}'.format(prediction, data_simu_y[i])\n",
    "            capital = capital\n",
    "            result = 'no order'\n",
    "        else:\n",
    "            raise ValueError('no condition met')\n",
    "        record_date.append(data_simu_x_n.iloc[i].name)\n",
    "        record_result.append(order_record)\n",
    "        record_capital.append(capital)\n",
    "\n",
    "        #Calculate Consecutive Lost\n",
    "        if result == 'lost':\n",
    "            consecutive_lost += -3.3\n",
    "            if consecutive_lost <= consecutive_lost_max:\n",
    "                consecutive_lost_max = consecutive_lost\n",
    "        if result == 'win':\n",
    "            if consecutive_lost <= consecutive_lost_max:\n",
    "                consecutive_lost_max = consecutive_lost\n",
    "            consecutive_lost = 0\n",
    "\n",
    "    total_return = ((capital - initial_capital) / initial_capital)*100\n",
    "    sim_df = pd.DataFrame({'record_date':record_date,\n",
    "                           'record_result':record_result,\n",
    "                           'record_capital': record_capital})\n",
    "    sim_df.set_index('record_date', inplace=True)\n",
    "\n",
    "    return win_count, lost_count, no_order_count, capital, total_return, sim_df, consecutive_lost_max\n"
   ]
  },
  {
   "cell_type": "code",
   "execution_count": 63,
   "metadata": {},
   "outputs": [
    {
     "name": "stdout",
     "output_type": "stream",
     "text": [
      "Total Return: -4.0%\n",
      "Final Capital: $481.0\n",
      "Win Count:  51\n",
      "Lost Count:  52\n",
      "No Order Count:  1801\n",
      "Max Consecutive Lost: 8.000000000000002 trades\n",
      "Total day on trading: 123 days\n"
     ]
    }
   ],
   "source": [
    "win_count, lost_count, no_order_count, capital, total_return, sim_df, consecutive_lost_max = predict_simu(lsvm, \n",
    "                                                                                                          X_test_simu_n, \n",
    "                                                                                                          y_test, \n",
    "                                                                                                          500)\n",
    "print('Total Return: {0}%'.format(round(total_return,0)))\n",
    "print('Final Capital: ${0}'.format(round(capital,0)))\n",
    "print('Win Count: ',win_count)\n",
    "print('Lost Count: ',lost_count)\n",
    "print('No Order Count: ', no_order_count)\n",
    "print('Max Consecutive Lost: {0} trades'.format(consecutive_lost_max/-3.3))\n",
    "day_one = X_test_simu_n.iloc[0].name.to_pydatetime().date()\n",
    "day_final = X_test_simu_n.iloc[len(X_test_simu_n)-1].name.to_pydatetime().date()\n",
    "print('Total day on trading: {0} days'.format((day_final - day_one).days))"
   ]
  },
  {
   "cell_type": "code",
   "execution_count": null,
   "metadata": {},
   "outputs": [],
   "source": [
    "X_test_simu_n.iloc[0]"
   ]
  },
  {
   "cell_type": "code",
   "execution_count": null,
   "metadata": {},
   "outputs": [],
   "source": [
    "sim_df.plot(y='record_capital')"
   ]
  },
  {
   "cell_type": "code",
   "execution_count": null,
   "metadata": {},
   "outputs": [],
   "source": [
    "sim_df['record_capital'].to_csv('record_capital.csv')"
   ]
  },
  {
   "cell_type": "markdown",
   "metadata": {},
   "source": [
    "# Export the simulation data set:"
   ]
  },
  {
   "cell_type": "code",
   "execution_count": null,
   "metadata": {},
   "outputs": [],
   "source": [
    "np.savetxt('y_long_simu.csv', y_test, delimiter=',')\n",
    "X_test_simu_n.to_csv('X_long_simu.csv')"
   ]
  },
  {
   "attachments": {},
   "cell_type": "markdown",
   "metadata": {},
   "source": [
    "##### To import the file use:\n",
    "\n",
    "```python\n",
    "y_test = np.loadtxt('y_long_simu.csv', delimiter=',')\n",
    "X_test_simu_n = pd.read_csv('X_long_simu.csv',index_col='datetime', parse_dates=True)\n",
    "```"
   ]
  },
  {
   "cell_type": "markdown",
   "metadata": {},
   "source": [
    "# Saving model using Pickle"
   ]
  },
  {
   "cell_type": "code",
   "execution_count": null,
   "metadata": {},
   "outputs": [],
   "source": [
    "import pickle\n",
    "print('version should be 4.0:',pickle.format_version)"
   ]
  },
  {
   "cell_type": "code",
   "execution_count": null,
   "metadata": {},
   "outputs": [],
   "source": [
    "pickle.dump(lsvm,open('lsvm_xauusd_long_rrr.pkl','wb'))"
   ]
  },
  {
   "cell_type": "code",
   "execution_count": null,
   "metadata": {},
   "outputs": [],
   "source": [
    "pickled_model=pickle.load(open('lsvm_xauusd_long_rrr.pkl','rb'))"
   ]
  },
  {
   "cell_type": "code",
   "execution_count": null,
   "metadata": {},
   "outputs": [],
   "source": [
    "model_input = [-2.839808,-2.806494,-2.828501,-2.791640]\n",
    "model_input = np.array(model_input).reshape(1,-1)\n",
    "model_input\n",
    "pickled_model.predict(model_input)"
   ]
  },
  {
   "attachments": {},
   "cell_type": "markdown",
   "metadata": {},
   "source": [
    "# Question on SVM\n",
    "\n",
    "##### what is the different between svm.SVC(kernel='linear') and LinearSVC in sklearn?\n",
    "\n",
    "svm.SVC(kernel='linear') and LinearSVC are both linear SVM classifiers available in scikit-learn, but there are some differences between them.\n",
    "\n",
    "svm.SVC(kernel='linear') is based on the LIBSVM library, which is written in C++, while LinearSVC is based on the LIBLINEAR library, which is written in C.\n",
    "\n",
    "One of the main differences between these two is the handling of multi-class classification. svm.SVC(kernel='linear') uses the one-vs-one approach, which trains a binary classifier for every pair of classes, while LinearSVC uses the one-vs-the-rest approach, which trains a binary classifier for each class against all the other classes.\n",
    "\n",
    "Another difference is the way they handle the regularization parameter C. In svm.SVC(kernel='linear'), C controls the tradeoff between maximizing the margin and minimizing the classification error. In LinearSVC, C controls the strength of regularization, where smaller values of C lead to stronger regularization.\n",
    "\n",
    "Overall, LinearSVC is faster and more memory-efficient than svm.SVC(kernel='linear') and is recommended for large datasets with many features, while svm.SVC(kernel='linear') may be more suitable for smaller datasets with few features or for multi-class classification.\n",
    "\n",
    "##### which is created first\n",
    "\n",
    "SVC(kernel='linear') was created first and it is a more flexible implementation of linear support vector machines. It can handle non-linearly separable data by using the kernel trick to transform the input data into a higher-dimensional feature space where the data becomes linearly separable.\n",
    "\n",
    "LinearSVC, on the other hand, is a more efficient implementation of linear support vector machines that only supports linear kernels. It uses a different algorithm for training the model that is more scalable and faster than the algorithm used by SVC(kernel='linear').\n",
    "\n",
    "Both models are useful for solving binary classification problems, but LinearSVC is generally preferred when the dataset is large and the number of features is high, while SVC(kernel='linear') is preferred when the dataset is smaller or when non-linearly separable data is involved.\n",
    "\n",
    "##### Definition of large dataset and high number of features\n",
    "\n",
    "The definitions of \"large dataset\" and \"high number of features\" are somewhat relative and can vary depending on the context of the problem and the available computational resources. However, as a general rule of thumb, a \"large dataset\" can refer to a dataset with tens of thousands or more samples, while a \"small dataset\" can refer to a dataset with a few hundred or a few thousand samples.\n",
    "\n",
    "Similarly, a \"high number of features\" can also be relative, but it generally refers to datasets where the number of features is comparable to or larger than the number of samples. For example, in genomics and bioinformatics, it is common to work with datasets with tens of thousands or even hundreds of thousands of features.\n",
    "\n",
    "In practice, when working with a large dataset with a high number of features, LinearSVC can be more computationally efficient and can handle such datasets more effectively. On the other hand, when working with a smaller dataset with a lower number of features, SVC(kernel='linear') can perform just as well and may offer better accuracy in some cases.b"
   ]
  },
  {
   "attachments": {},
   "cell_type": "markdown",
   "metadata": {},
   "source": [
    "# Question XGBoost\n",
    "\n",
    "Random Forest and XGBoost are both popular machine learning algorithms used for regression and classification tasks. However, there are several key differences between these algorithms, which are outlined below:\n",
    "\n",
    "**During the training process**, XGBoost uses gradient boosting to optimize a loss function. The loss function measures the difference between the predicted and actual values and is chosen based on the specific problem being solved. For example, the mean squared error (MSE) loss function can be used for regression problems, and the cross-entropy loss function can be used for classification problems.\n",
    "\n",
    "**Model architecture:** Random Forest is an ensemble learning method that builds multiple decision trees and combines their predictions to make a final prediction. Each decision tree in the Random Forest is built independently and does not depend on the other trees. On the other hand, XGBoost is a boosted tree algorithm that builds decision trees sequentially, where each new tree corrects the errors of the previous trees.\n",
    "\n",
    "**Tree construction:** In Random Forest, each decision tree is built by randomly selecting a subset of the features and the samples in the training set. This helps to reduce overfitting and improves the performance of the model. In XGBoost, each tree is built by greedily selecting the best split that maximizes the information gain.\n",
    "\n",
    "**Handling of missing data:** Random Forest can handle missing data by imputing the missing values with the mean or median of the feature. XGBoost can handle missing data by splitting the samples into two groups: one group with the missing value and one group without the missing value.\n",
    "\n",
    "**Regularization:** Random Forest does not have any regularization parameters. XGBoost has several regularization parameters, including the learning rate, which controls the step size during the gradient descent, and the regularization term, which penalizes complex models and helps to prevent overfitting.\n",
    "\n",
    "**Performance:** Random Forest is generally faster to train than XGBoost, especially for large datasets. However, XGBoost often outperforms Random Forest in terms of predictive accuracy, especially for complex tasks with high-dimensional features.\n",
    "\n",
    "**In summary,** Random Forest and XGBoost are both powerful machine learning algorithms with different strengths and weaknesses. Random Forest is a simple and fast algorithm that can handle missing data, while XGBoost is a more complex algorithm that can handle complex tasks and has better predictive accuracy, but may require more tuning and training time.\n",
    "\n"
   ]
  }
 ],
 "metadata": {
  "kernelspec": {
   "display_name": "Python 3 (ipykernel)",
   "language": "python",
   "name": "python3"
  },
  "language_info": {
   "codemirror_mode": {
    "name": "ipython",
    "version": 3
   },
   "file_extension": ".py",
   "mimetype": "text/x-python",
   "name": "python",
   "nbconvert_exporter": "python",
   "pygments_lexer": "ipython3",
   "version": "3.9.0"
  }
 },
 "nbformat": 4,
 "nbformat_minor": 4
}
