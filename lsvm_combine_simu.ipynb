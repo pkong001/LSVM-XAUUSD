{
 "cells": [
  {
   "cell_type": "code",
   "execution_count": 1,
   "metadata": {},
   "outputs": [],
   "source": [
    "import pandas as pd\n",
    "import pylab as pl\n",
    "import numpy as np\n",
    "import scipy.optimize as opt\n",
    "from sklearn import preprocessing\n",
    "from sklearn.model_selection import train_test_split\n",
    "%matplotlib inline \n",
    "import matplotlib.pyplot as plt\n",
    "\n",
    "from sklearn.metrics import accuracy_score\n",
    "from sklearn.linear_model import LogisticRegression\n",
    "from sklearn.preprocessing import StandardScaler\n",
    "from sklearn.pipeline import make_pipeline\n",
    "from sklearn.svm import LinearSVC\n",
    "from sklearn import metrics\n",
    "from sklearn.metrics import f1_score\n",
    "from sklearn.metrics import jaccard_score\n",
    "from sklearn.metrics import confusion_matrix, ConfusionMatrixDisplay\n"
   ]
  },
  {
   "cell_type": "markdown",
   "metadata": {},
   "source": [
    "# Isolated Model Simulation"
   ]
  },
  {
   "cell_type": "code",
   "execution_count": 19,
   "metadata": {},
   "outputs": [],
   "source": [
    "def predict_simu(model, data_simu_x_n, data_simu_y, initial_capital):\n",
    "    capital = initial_capital\n",
    "    win_count = 0\n",
    "    lost_count = 0\n",
    "    no_order_count = 0\n",
    "    record_result = []\n",
    "    record_capital = []\n",
    "    record_date = []\n",
    "    consecutive_lost = 0\n",
    "    consecutive_lost_max = 0\n",
    "    for i in range(0, len(data_simu_x_n)):\n",
    "        prediction = model.predict(data_simu_x_n.iloc[i].values.reshape(1,-1))\n",
    "        \n",
    "        if prediction == 1 and data_simu_y[i] == 1:\n",
    "            outcome = 3\n",
    "            capital += outcome\n",
    "            win_count += 1\n",
    "            order_record = 'win-------- prediction = {0}, actual = {1}'.format(prediction,data_simu_y[i])\n",
    "            result = 'win'\n",
    "        elif prediction == 1 and data_simu_y[i] == 0:\n",
    "            outcome = -3.3\n",
    "            capital += outcome\n",
    "            lost_count += 1\n",
    "            order_record = 'lost------- prediction = {0}, actual = {1}'.format(prediction,data_simu_y[i])\n",
    "            result = 'lost'\n",
    "        elif prediction == 0:\n",
    "            no_order_count +=1\n",
    "            order_record = 'no order--- prediction = {0}, actual = {1}'.format(prediction, data_simu_y[i])\n",
    "            capital = capital\n",
    "            result = 'no order'\n",
    "        else:\n",
    "            raise ValueError('no condition met')\n",
    "        record_date.append(data_simu_x_n.iloc[i].name)\n",
    "        record_result.append(order_record)\n",
    "        record_capital.append(capital)\n",
    "\n",
    "        #Calculate Consecutive Lost\n",
    "        if result == 'lost':\n",
    "            consecutive_lost += -3.3\n",
    "            if consecutive_lost <= consecutive_lost_max:\n",
    "                consecutive_lost_max = consecutive_lost\n",
    "        if result == 'win':\n",
    "            if consecutive_lost <= consecutive_lost_max:\n",
    "                consecutive_lost_max = consecutive_lost\n",
    "            consecutive_lost = 0\n",
    "\n",
    "    total_return = ((capital - initial_capital) / initial_capital)*100\n",
    "    sim_df = pd.DataFrame({'record_date':record_date,\n",
    "                           'record_result':record_result,\n",
    "                           'record_capital': record_capital})\n",
    "    sim_df.set_index('record_date', inplace=True)\n",
    "\n",
    "    return win_count, lost_count, no_order_count, capital, total_return, sim_df, consecutive_lost_max\n"
   ]
  },
  {
   "attachments": {},
   "cell_type": "markdown",
   "metadata": {},
   "source": [
    "# Define Combine Simulation"
   ]
  },
  {
   "cell_type": "code",
   "execution_count": 2,
   "metadata": {},
   "outputs": [],
   "source": [
    "def predict_simu_combine(model_long, \n",
    "                         data_simu_x_n_long, \n",
    "                         data_simu_y_long, \n",
    "                         model_short, \n",
    "                         data_simu_x_n_short, \n",
    "                         data_simu_y_short, \n",
    "                         initial_capital):\n",
    "    capital = initial_capital\n",
    "    win_count = 0\n",
    "    lost_count = 0\n",
    "    no_order_count = 0\n",
    "    record_result = []\n",
    "    record_capital = []\n",
    "    record_date = []\n",
    "    consecutive_lost = 0\n",
    "    consecutive_lost_max = 0\n",
    "    result_one_one = 0\n",
    "    for i in range(0, len(data_simu_x_n_long)):\n",
    "        prediction_long = model_long.predict(data_simu_x_n_long.iloc[i].values.reshape(1,-1))\n",
    "        prediction_short = model_short.predict(data_simu_x_n_short.iloc[i].values.reshape(1,-1))\n",
    "        \n",
    "        # if prediction_long ==1 and prediction_short == 1\n",
    "        #     no trade\n",
    "        # if prediction_long == 1 and prediction_short ==0\n",
    "        #     trade long\n",
    "        # if prediction_long ==0 and prediction_short == 1\n",
    "        #     trade short\n",
    "        # if prediction_long == 0 and prediction_short ==0\n",
    "        #     no trade\n",
    "        if prediction_long ==1 and prediction_short == 1:\n",
    "            no_order_count +=1\n",
    "            order_record = 'no order--- p_long = {0}, p_short = {1},  actual = {2}, model = {3}'.format(prediction_long, prediction_short,data_simu_y_long[i],'None')\n",
    "            capital = capital\n",
    "            result = 'no order'\n",
    "            result_one_one += 1\n",
    "        elif prediction_long == 1 and prediction_short == 0 and data_simu_y_long[i] == 1:\n",
    "            outcome = 3\n",
    "            capital += outcome\n",
    "            win_count += 1\n",
    "            order_record = 'win-------- p_long = {0},p_short = {1}, actual = {2}, model = {3}'.format(prediction_long, prediction_short,data_simu_y_long[i],'Long')\n",
    "            result = 'win'\n",
    "        elif prediction_long == 1 and prediction_short == 0 and data_simu_y_long[i] == 0:\n",
    "            outcome = -3.3\n",
    "            capital += outcome\n",
    "            lost_count += 1\n",
    "            order_record = 'lost------- p_long = {0},p_short = {1}, actual = {2}, model = {3}'.format(prediction_long, prediction_short,data_simu_y_long[i],'Long')\n",
    "            result = 'lost'\n",
    "        elif prediction_long == 0 and prediction_short == 1 and data_simu_y_short[i] == 1:\n",
    "            outcome = 3\n",
    "            capital += outcome\n",
    "            win_count += 1\n",
    "            order_record = 'win-------- p_long = {0},p_short = {1}, actual = {2}, model = {3}'.format(prediction_long, prediction_short,data_simu_y_long[i],'Long')\n",
    "            result = 'win'\n",
    "        elif prediction_long == 0 and prediction_short == 1 and data_simu_y_short[i] == 0:\n",
    "            outcome = -3.3\n",
    "            capital += outcome\n",
    "            lost_count += 1\n",
    "            order_record = 'lost------- p_long = {0},p_short = {1}, actual = {2}, model = {3}'.format(prediction_long, prediction_short,data_simu_y_long[i],'Long')\n",
    "            result = 'lost'\n",
    "        elif prediction_long == 0 and prediction_short == 0:\n",
    "            no_order_count +=1\n",
    "            order_record = 'no order--- p_long = {0}, p_short = {1},  actual = {2}, model = {3}'.format(prediction_long, prediction_short, data_simu_y_long[i],'None')\n",
    "            capital = capital\n",
    "            result = 'no order'\n",
    "        else:\n",
    "            raise ValueError('no condition met')\n",
    "        record_date.append(data_simu_x_n_long.iloc[i].name)\n",
    "        record_result.append(order_record)\n",
    "        record_capital.append(capital)\n",
    "\n",
    "        #Calculate Consecutive Lost\n",
    "        if result == 'lost':\n",
    "            consecutive_lost += -3.3\n",
    "            if consecutive_lost <= consecutive_lost_max:\n",
    "                consecutive_lost_max = consecutive_lost\n",
    "        if result == 'win':\n",
    "            if consecutive_lost <= consecutive_lost_max:\n",
    "                consecutive_lost_max = consecutive_lost\n",
    "            consecutive_lost = 0\n",
    "\n",
    "    total_return = ((capital - initial_capital) / initial_capital)*100\n",
    "    sim_df = pd.DataFrame({'record_date':record_date,\n",
    "                           'record_result':record_result,\n",
    "                           'record_capital': record_capital})\n",
    "    sim_df.set_index('record_date', inplace=True)\n",
    "\n",
    "    return win_count, lost_count, no_order_count, capital, total_return, sim_df, consecutive_lost_max, result_one_one\n"
   ]
  },
  {
   "cell_type": "code",
   "execution_count": 4,
   "metadata": {},
   "outputs": [
    {
     "data": {
      "text/html": [
       "<div>\n",
       "<style scoped>\n",
       "    .dataframe tbody tr th:only-of-type {\n",
       "        vertical-align: middle;\n",
       "    }\n",
       "\n",
       "    .dataframe tbody tr th {\n",
       "        vertical-align: top;\n",
       "    }\n",
       "\n",
       "    .dataframe thead th {\n",
       "        text-align: right;\n",
       "    }\n",
       "</style>\n",
       "<table border=\"1\" class=\"dataframe\">\n",
       "  <thead>\n",
       "    <tr style=\"text-align: right;\">\n",
       "      <th></th>\n",
       "      <th>datetime</th>\n",
       "      <th>open</th>\n",
       "      <th>high</th>\n",
       "      <th>low</th>\n",
       "      <th>close</th>\n",
       "    </tr>\n",
       "  </thead>\n",
       "  <tbody>\n",
       "    <tr>\n",
       "      <th>0</th>\n",
       "      <td>2022-10-28 12:00:00</td>\n",
       "      <td>-2.839808</td>\n",
       "      <td>-2.806494</td>\n",
       "      <td>-2.828501</td>\n",
       "      <td>-2.791640</td>\n",
       "    </tr>\n",
       "    <tr>\n",
       "      <th>1</th>\n",
       "      <td>2022-10-28 13:00:00</td>\n",
       "      <td>-2.791894</td>\n",
       "      <td>-2.785265</td>\n",
       "      <td>-2.799430</td>\n",
       "      <td>-2.815290</td>\n",
       "    </tr>\n",
       "    <tr>\n",
       "      <th>2</th>\n",
       "      <td>2022-10-28 14:00:00</td>\n",
       "      <td>-2.815696</td>\n",
       "      <td>-2.802956</td>\n",
       "      <td>-2.798498</td>\n",
       "      <td>-2.784220</td>\n",
       "    </tr>\n",
       "    <tr>\n",
       "      <th>3</th>\n",
       "      <td>2022-10-28 15:00:00</td>\n",
       "      <td>-2.784939</td>\n",
       "      <td>-2.774651</td>\n",
       "      <td>-2.769146</td>\n",
       "      <td>-2.753305</td>\n",
       "    </tr>\n",
       "    <tr>\n",
       "      <th>4</th>\n",
       "      <td>2022-10-28 16:00:00</td>\n",
       "      <td>-2.754954</td>\n",
       "      <td>-2.767728</td>\n",
       "      <td>-2.756405</td>\n",
       "      <td>-2.761806</td>\n",
       "    </tr>\n",
       "    <tr>\n",
       "      <th>...</th>\n",
       "      <td>...</td>\n",
       "      <td>...</td>\n",
       "      <td>...</td>\n",
       "      <td>...</td>\n",
       "      <td>...</td>\n",
       "    </tr>\n",
       "    <tr>\n",
       "      <th>1898</th>\n",
       "      <td>2023-02-28 12:00:00</td>\n",
       "      <td>0.051565</td>\n",
       "      <td>0.085802</td>\n",
       "      <td>0.085470</td>\n",
       "      <td>0.092761</td>\n",
       "    </tr>\n",
       "    <tr>\n",
       "      <th>1899</th>\n",
       "      <td>2023-02-28 14:00:00</td>\n",
       "      <td>0.074131</td>\n",
       "      <td>0.073080</td>\n",
       "      <td>0.110222</td>\n",
       "      <td>0.088850</td>\n",
       "    </tr>\n",
       "    <tr>\n",
       "      <th>1900</th>\n",
       "      <td>2023-02-28 16:00:00</td>\n",
       "      <td>0.049355</td>\n",
       "      <td>0.028884</td>\n",
       "      <td>0.070880</td>\n",
       "      <td>0.053807</td>\n",
       "    </tr>\n",
       "    <tr>\n",
       "      <th>1901</th>\n",
       "      <td>2023-02-28 18:00:00</td>\n",
       "      <td>0.045167</td>\n",
       "      <td>0.026930</td>\n",
       "      <td>0.070087</td>\n",
       "      <td>0.034439</td>\n",
       "    </tr>\n",
       "    <tr>\n",
       "      <th>1902</th>\n",
       "      <td>2023-02-28 19:00:00</td>\n",
       "      <td>0.033884</td>\n",
       "      <td>0.001502</td>\n",
       "      <td>0.033930</td>\n",
       "      <td>0.002905</td>\n",
       "    </tr>\n",
       "  </tbody>\n",
       "</table>\n",
       "<p>1903 rows × 5 columns</p>\n",
       "</div>"
      ],
      "text/plain": [
       "                 datetime      open      high       low     close\n",
       "0     2022-10-28 12:00:00 -2.839808 -2.806494 -2.828501 -2.791640\n",
       "1     2022-10-28 13:00:00 -2.791894 -2.785265 -2.799430 -2.815290\n",
       "2     2022-10-28 14:00:00 -2.815696 -2.802956 -2.798498 -2.784220\n",
       "3     2022-10-28 15:00:00 -2.784939 -2.774651 -2.769146 -2.753305\n",
       "4     2022-10-28 16:00:00 -2.754954 -2.767728 -2.756405 -2.761806\n",
       "...                   ...       ...       ...       ...       ...\n",
       "1898  2023-02-28 12:00:00  0.051565  0.085802  0.085470  0.092761\n",
       "1899  2023-02-28 14:00:00  0.074131  0.073080  0.110222  0.088850\n",
       "1900  2023-02-28 16:00:00  0.049355  0.028884  0.070880  0.053807\n",
       "1901  2023-02-28 18:00:00  0.045167  0.026930  0.070087  0.034439\n",
       "1902  2023-02-28 19:00:00  0.033884  0.001502  0.033930  0.002905\n",
       "\n",
       "[1903 rows x 5 columns]"
      ]
     },
     "execution_count": 4,
     "metadata": {},
     "output_type": "execute_result"
    }
   ],
   "source": [
    "pd.read_csv('X_long_simu.csv')"
   ]
  },
  {
   "cell_type": "code",
   "execution_count": 3,
   "metadata": {},
   "outputs": [
    {
     "name": "stderr",
     "output_type": "stream",
     "text": [
      "c:\\Users\\pkong\\LSVM-XAUUSD\\venv\\lib\\site-packages\\sklearn\\base.py:318: UserWarning: Trying to unpickle estimator LinearSVC from version 1.0.2 when using version 1.2.2. This might lead to breaking code or invalid results. Use at your own risk. For more info please refer to:\n",
      "https://scikit-learn.org/stable/model_persistence.html#security-maintainability-limitations\n",
      "  warnings.warn(\n"
     ]
    },
    {
     "name": "stdout",
     "output_type": "stream",
     "text": [
      "Total Return: 158.0%\n",
      "Final Capital: $1292.0\n",
      "Win Count:  429\n",
      "Lost Count:  150\n",
      "No Order Count:  1324\n",
      "Max Consecutive Lost: 4.0 trades\n",
      "Total day on trading: 123 days\n",
      "result one one 0\n"
     ]
    }
   ],
   "source": [
    "import pickle\n",
    "\n",
    "lsvm_long = pickle.load(open('lsvm_xauusd.pkl','rb'))\n",
    "y_test_long = np.loadtxt('y_long_simu.csv', delimiter=',')\n",
    "X_test_simu_n_long = pd.read_csv('X_long_simu.csv',index_col='datetime', parse_dates=True)\n",
    "\n",
    "lsvm_short = pickle.load(open('lsvm_xauusd_short.pkl','rb'))\n",
    "y_test_short = np.loadtxt('y_short_simu.csv', delimiter=',')\n",
    "X_test_simu_n_short = pd.read_csv('X_short_simu.csv',index_col='datetime', parse_dates=True)\n",
    "\n",
    "win_count, lost_count, no_order_count, capital, total_return, sim_df, consecutive_lost_max, result_one_one = predict_simu_combine(lsvm_long, X_test_simu_n_long, y_test_long, lsvm_short, X_test_simu_n_short, y_test_short, 500)                                                          \n",
    "print('Total Return: {0}%'.format(round(total_return,0)))\n",
    "print('Final Capital: ${0}'.format(round(capital,0)))\n",
    "print('Win Count: ',win_count)\n",
    "print('Lost Count: ',lost_count)\n",
    "print('No Order Count: ', no_order_count)\n",
    "print('Max Consecutive Lost: {0} trades'.format(consecutive_lost_max/-3.3))\n",
    "day_one = X_test_simu_n_short.iloc[0].name.to_pydatetime().date()\n",
    "day_final = X_test_simu_n_short.iloc[len(X_test_simu_n_short)-1].name.to_pydatetime().date()\n",
    "print('Total day on trading: {0} days'.format((day_final - day_one).days))\n",
    "print('result one one',result_one_one)\n",
    "# sim_df.plot(y='record_capital')"
   ]
  },
  {
   "cell_type": "code",
   "execution_count": 32,
   "metadata": {},
   "outputs": [],
   "source": [
    "sim_df.to_csv('sim_df.csv')"
   ]
  },
  {
   "cell_type": "markdown",
   "metadata": {},
   "source": [
    "# Short Model Import"
   ]
  },
  {
   "cell_type": "code",
   "execution_count": 22,
   "metadata": {},
   "outputs": [
    {
     "name": "stdout",
     "output_type": "stream",
     "text": [
      "Total Return: 74.0%\n",
      "Final Capital: $871.0\n",
      "Win Count:  192\n",
      "Lost Count:  62\n",
      "No Order Count:  1649\n",
      "Max Consecutive Lost: 4.0 trades\n",
      "Total day on trading: 123 days\n"
     ]
    },
    {
     "data": {
      "text/plain": [
       "<Axes: xlabel='record_date'>"
      ]
     },
     "execution_count": 22,
     "metadata": {},
     "output_type": "execute_result"
    },
    {
     "data": {
      "image/png": "[encoded data removed]",
      "text/plain": [
       "<Figure size 640x480 with 1 Axes>"
      ]
     },
     "metadata": {},
     "output_type": "display_data"
    }
   ],
   "source": [
    "import pickle\n",
    "lsvm_short = pickle.load(open('lsvm_xauusd_short.pkl','rb'))\n",
    "\n",
    "\n",
    "y_test_short = np.loadtxt('y_short_simu.csv', delimiter=',')\n",
    "X_test_simu_n_short = pd.read_csv('X_short_simu.csv',index_col='datetime', parse_dates=True)\n",
    "\n",
    "win_count, lost_count, no_order_count, capital, total_return, sim_df, consecutive_lost_max = predict_simu(lsvm_short, X_test_simu_n_short, y_test_short, 500)                                                          \n",
    "print('Total Return: {0}%'.format(round(total_return,0)))\n",
    "print('Final Capital: ${0}'.format(round(capital,0)))\n",
    "print('Win Count: ',win_count)\n",
    "print('Lost Count: ',lost_count)\n",
    "print('No Order Count: ', no_order_count)\n",
    "print('Max Consecutive Lost: {0} trades'.format(consecutive_lost_max/-3.3))\n",
    "day_one = X_test_simu_n_short.iloc[0].name.to_pydatetime().date()\n",
    "day_final = X_test_simu_n_short.iloc[len(X_test_simu_n_short)-1].name.to_pydatetime().date()\n",
    "print('Total day on trading: {0} days'.format((day_final - day_one).days))\n",
    "sim_df.plot(y='record_capital')"
   ]
  },
  {
   "attachments": {},
   "cell_type": "markdown",
   "metadata": {},
   "source": [
    "# Long Model Import"
   ]
  },
  {
   "cell_type": "code",
   "execution_count": 33,
   "metadata": {},
   "outputs": [
    {
     "name": "stderr",
     "output_type": "stream",
     "text": [
      "c:\\Users\\pkong\\LSVM-XAUUSD\\venv\\lib\\site-packages\\sklearn\\base.py:318: UserWarning: Trying to unpickle estimator LinearSVC from version 1.0.2 when using version 1.2.2. This might lead to breaking code or invalid results. Use at your own risk. For more info please refer to:\n",
      "https://scikit-learn.org/stable/model_persistence.html#security-maintainability-limitations\n",
      "  warnings.warn(\n"
     ]
    },
    {
     "name": "stdout",
     "output_type": "stream",
     "text": [
      "Total Return: 84.0%\n",
      "Final Capital: $921.0\n",
      "Win Count:  237\n",
      "Lost Count:  88\n",
      "No Order Count:  1578\n",
      "Max Consecutive Lost: 5.0 trades\n",
      "Total day on trading: 123 days\n"
     ]
    },
    {
     "data": {
      "text/plain": [
       "<Axes: xlabel='record_date'>"
      ]
     },
     "execution_count": 33,
     "metadata": {},
     "output_type": "execute_result"
    },
    {
     "data": {
      "image/png": "[encoded data removed]",
      "text/plain": [
       "<Figure size 640x480 with 1 Axes>"
      ]
     },
     "metadata": {},
     "output_type": "display_data"
    }
   ],
   "source": [
    "import pickle\n",
    "lsvm_long = pickle.load(open('lsvm_xauusd.pkl','rb'))\n",
    "\n",
    "\n",
    "y_test_long = np.loadtxt('y_long_simu.csv', delimiter=',')\n",
    "X_test_simu_n_long = pd.read_csv('X_long_simu.csv',index_col='datetime', parse_dates=True)\n",
    "\n",
    "win_count, lost_count, no_order_count, capital, total_return, sim_df, consecutive_lost_max = predict_simu(lsvm_long, X_test_simu_n_long, y_test_long, 500)                                                          \n",
    "print('Total Return: {0}%'.format(round(total_return,0)))\n",
    "print('Final Capital: ${0}'.format(round(capital,0)))\n",
    "print('Win Count: ',win_count)\n",
    "print('Lost Count: ',lost_count)\n",
    "print('No Order Count: ', no_order_count)\n",
    "print('Max Consecutive Lost: {0} trades'.format(consecutive_lost_max/-3.3))\n",
    "day_one = X_test_simu_n_short.iloc[0].name.to_pydatetime().date()\n",
    "day_final = X_test_simu_n_short.iloc[len(X_test_simu_n_short)-1].name.to_pydatetime().date()\n",
    "print('Total day on trading: {0} days'.format((day_final - day_one).days))\n",
    "sim_df.plot(y='record_capital')"
   ]
  }
 ],
 "metadata": {
  "kernelspec": {
   "display_name": "Python 3",
   "language": "python",
   "name": "python3"
  },
  "language_info": {
   "codemirror_mode": {
    "name": "ipython",
    "version": 3
   },
   "file_extension": ".py",
   "mimetype": "text/x-python",
   "name": "python",
   "nbconvert_exporter": "python",
   "pygments_lexer": "ipython3",
   "version": "3.9.0"
  },
  "orig_nbformat": 4
 },
 "nbformat": 4,
 "nbformat_minor": 2
}
